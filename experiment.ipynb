{
 "cells": [
  {
   "cell_type": "code",
   "execution_count": 1,
   "id": "aef5f249",
   "metadata": {},
   "outputs": [
    {
     "name": "stderr",
     "output_type": "stream",
     "text": [
      "c:\\Users\\sumit\\Desktop\\GenAi\\Dog_Cat_Classifier\\penv\\lib\\site-packages\\tensorflow\\python\\keras\\engine\\training_arrays_v1.py:37: UserWarning: A NumPy version >=1.23.5 and <2.5.0 is required for this version of SciPy (detected version 1.21.6)\n",
      "  from scipy.sparse import issparse  # pylint: disable=g-import-not-at-top\n"
     ]
    },
    {
     "name": "stdout",
     "output_type": "stream",
     "text": [
      "Tensorflow is using the GPU!\n",
      "Available GPU: [PhysicalDevice(name='/physical_device:GPU:0', device_type='GPU')]\n",
      "GPU Details: {'device_name': 'NVIDIA GeForce RTX 4060 Laptop GPU', 'compute_capability': (8, 9)}\n"
     ]
    }
   ],
   "source": [
    "import tensorflow as tf\n",
    "if tf.config.list_physical_devices('GPU'):\n",
    "    print('Tensorflow is using the GPU!')\n",
    "\n",
    "    gpus = tf.config.list_physical_devices('GPU')\n",
    "    print('Available GPU:', gpus)\n",
    "\n",
    "    for gpu in gpus:\n",
    "        details = tf.config.experimental.get_device_details(gpu)\n",
    "        print(\"GPU Details:\",details)\n",
    "else:\n",
    "    print('Tensorflow is using CPU.')"
   ]
  },
  {
   "cell_type": "code",
   "execution_count": 2,
   "id": "2a374ead",
   "metadata": {},
   "outputs": [],
   "source": [
    "import PIL\n",
    "# from scipy.sparse import issparse"
   ]
  },
  {
   "cell_type": "code",
   "execution_count": 3,
   "id": "b3462bd7",
   "metadata": {},
   "outputs": [],
   "source": [
    "import tensorflow as tf\n",
    "from tensorflow import keras\n",
    "from keras import Sequential\n",
    "from keras.layers import Dense, Conv2D, MaxPooling2D, Flatten,Dropout,BatchNormalization\n",
    "from matplotlib import pyplot as plt"
   ]
  },
  {
   "cell_type": "code",
   "execution_count": 4,
   "id": "d430122f",
   "metadata": {},
   "outputs": [
    {
     "name": "stdout",
     "output_type": "stream",
     "text": [
      "Found 20000 files belonging to 2 classes.\n",
      "Found 5000 files belonging to 2 classes.\n"
     ]
    }
   ],
   "source": [
    "## generators\n",
    "\n",
    "train_ds = keras.utils.image_dataset_from_directory(\n",
    "    directory = 'train',\n",
    "    labels = 'inferred',\n",
    "    label_mode = 'int',\n",
    "    batch_size = 32,\n",
    "    image_size = (256,256)\n",
    ")\n",
    "validation_ds = keras.utils.image_dataset_from_directory(\n",
    "    directory = 'test',\n",
    "    labels = 'inferred',\n",
    "    label_mode = 'int',\n",
    "    batch_size = 32,\n",
    "    image_size = (256,256)\n",
    ")\n"
   ]
  },
  {
   "cell_type": "code",
   "execution_count": 5,
   "id": "b507ff60",
   "metadata": {},
   "outputs": [],
   "source": [
    "## Normalization\n",
    "\n",
    "# def normalization(image,label):\n",
    "#     image = tf.cast(image/255. , tf.float32),\n",
    "#     return image,label\n",
    "\n",
    "# train_ds = train_ds.map(normalization)\n",
    "# validation_ds = validation_ds.map(normalization)"
   ]
  },
  {
   "cell_type": "code",
   "execution_count": 6,
   "id": "82a710f9",
   "metadata": {},
   "outputs": [
    {
     "name": "stdout",
     "output_type": "stream",
     "text": [
      "Found 20000 images belonging to 2 classes.\n",
      "Found 5000 images belonging to 2 classes.\n"
     ]
    }
   ],
   "source": [
    "## Data Augmentation\n",
    "\n",
    "batch_size=16\n",
    "## training data augmentation\n",
    "train_aug = tf.keras.preprocessing.image.ImageDataGenerator(\n",
    "    rescale=1./255,\n",
    "    shear_range = 0.2,\n",
    "    zoom_range = 0.2,\n",
    "    horizontal_flip = True\n",
    ")\n",
    "\n",
    "## Test data augmentation\n",
    "test_aug = tf.keras.preprocessing.image.ImageDataGenerator(\n",
    "    rescale = 1./255\n",
    ")\n",
    "\n",
    "train_generator = train_aug.flow_from_directory(\n",
    "    'train',\n",
    "    target_size=(256,256),\n",
    "    batch_size = batch_size,\n",
    "    class_mode = 'binary'\n",
    ")\n",
    "\n",
    "test_generator = train_aug.flow_from_directory(\n",
    "    'test',\n",
    "    target_size=(256 ,256),\n",
    "    batch_size = batch_size,\n",
    "    class_mode = 'binary'\n",
    ")"
   ]
  },
  {
   "cell_type": "code",
   "execution_count": 7,
   "id": "ebc2cba6",
   "metadata": {},
   "outputs": [],
   "source": [
    "# model = Sequential()\n",
    "# model.add(Conv2D(32, (3, 3), activation='relu', input_shape=(256, 256, 3))),\n",
    "# model.add(MaxPooling2D(2, 2)),\n",
    "# model.add(Conv2D(64, (3, 3), activation='relu')),\n",
    "# model.add(MaxPooling2D(2, 2)),\n",
    "# model.add(Conv2D(64, (3, 3), activation='relu')),\n",
    "# model.add(MaxPooling2D(2, 2)),\n",
    "# model.add(Conv2D(64, (3, 3), activation='relu')),\n",
    "# model.add(MaxPooling2D(2, 2)),\n",
    "\n",
    "# model.add(Flatten()),\n",
    "# model.add(Dense(512, activation='relu')),\n",
    "# model.add(BatchNormalization()),\n",
    "# model.add(Dense(512, activation='relu')),\n",
    "# # model.add(Dropout(0.1)),\n",
    "# model.add(BatchNormalization()),\n",
    "# model.add(Dense(512, activation='relu')),\n",
    "# # model.add(Dropout(0.2)),\n",
    "# model.add(BatchNormalization()),\n",
    "# model.add(Dense(1, activation='sigmoid'))"
   ]
  },
  {
   "cell_type": "code",
   "execution_count": 8,
   "id": "a63747af",
   "metadata": {},
   "outputs": [],
   "source": [
    "## CNN Model\n",
    "\n",
    "model = Sequential()\n",
    "\n",
    "model.add(Conv2D(32,kernel_size=(11,11), padding='valid',activation='relu',input_shape=(256,256,3)))\n",
    "model.add(MaxPooling2D(pool_size=(3,3),padding='valid'))\n",
    "\n",
    "model.add(Conv2D(32,kernel_size=(5,5), padding='valid',activation='relu'))\n",
    "model.add(MaxPooling2D(pool_size=(3,3),padding='valid'))\n",
    "\n",
    "model.add(Conv2D(64,kernel_size=(3,3), padding='valid',activation='relu'))\n",
    "# model.add(Conv2D(384,kernel_size=(3,3),strides=1, padding='same',activation='relu'))\n",
    "# model.add(Conv2D(256,kernel_size=(3,3),strides=1, padding='same',activation='relu'))\n",
    "model.add(MaxPooling2D(pool_size=(3,3),strides=2,padding='valid'))\n",
    "\n",
    "model.add(Flatten())\n",
    "\n",
    "# model.add(Dense(128,activation='relu'))\n",
    "# model.add(BatchNormalization())\n",
    "# model.add(Dropout(0.1))\n",
    "model.add(Dense(64,activation='relu'))\n",
    "model.add(BatchNormalization())\n",
    "model.add(Dropout(0.2))\n",
    "model.add(Dense(64,activation='relu'))\n",
    "model.add(BatchNormalization())\n",
    "model.add(Dropout(0.2))\n",
    "\n",
    "model.add(Dense(1,activation='sigmoid'))"
   ]
  },
  {
   "cell_type": "code",
   "execution_count": 9,
   "id": "8ab9ddf9",
   "metadata": {},
   "outputs": [],
   "source": [
    "model.compile(optimizer = 'adam',loss = 'binary_crossentropy',metrics=['accuracy'])"
   ]
  },
  {
   "cell_type": "code",
   "execution_count": 10,
   "id": "211e8fae",
   "metadata": {},
   "outputs": [
    {
     "name": "stdout",
     "output_type": "stream",
     "text": [
      "Model: \"sequential\"\n",
      "_________________________________________________________________\n",
      " Layer (type)                Output Shape              Param #   \n",
      "=================================================================\n",
      " conv2d (Conv2D)             (None, 246, 246, 32)      11648     \n",
      "                                                                 \n",
      " max_pooling2d (MaxPooling2D  (None, 82, 82, 32)       0         \n",
      " )                                                               \n",
      "                                                                 \n",
      " conv2d_1 (Conv2D)           (None, 78, 78, 32)        25632     \n",
      "                                                                 \n",
      " max_pooling2d_1 (MaxPooling  (None, 26, 26, 32)       0         \n",
      " 2D)                                                             \n",
      "                                                                 \n",
      " conv2d_2 (Conv2D)           (None, 24, 24, 64)        18496     \n",
      "                                                                 \n",
      " max_pooling2d_2 (MaxPooling  (None, 11, 11, 64)       0         \n",
      " 2D)                                                             \n",
      "                                                                 \n",
      " flatten (Flatten)           (None, 7744)              0         \n",
      "                                                                 \n",
      " dense (Dense)               (None, 64)                495680    \n",
      "                                                                 \n",
      " batch_normalization (BatchN  (None, 64)               256       \n",
      " ormalization)                                                   \n",
      "                                                                 \n",
      " dropout (Dropout)           (None, 64)                0         \n",
      "                                                                 \n",
      " dense_1 (Dense)             (None, 64)                4160      \n",
      "                                                                 \n",
      " batch_normalization_1 (Batc  (None, 64)               256       \n",
      " hNormalization)                                                 \n",
      "                                                                 \n",
      " dropout_1 (Dropout)         (None, 64)                0         \n",
      "                                                                 \n",
      " dense_2 (Dense)             (None, 1)                 65        \n",
      "                                                                 \n",
      "=================================================================\n",
      "Total params: 556,193\n",
      "Trainable params: 555,937\n",
      "Non-trainable params: 256\n",
      "_________________________________________________________________\n"
     ]
    }
   ],
   "source": [
    "model.summary()"
   ]
  },
  {
   "cell_type": "code",
   "execution_count": null,
   "id": "5cf5e530",
   "metadata": {},
   "outputs": [
    {
     "name": "stdout",
     "output_type": "stream",
     "text": [
      "Epoch 1/20\n",
      "1250/1250 [==============================] - 223s 171ms/step - loss: 0.7264 - accuracy: 0.5389 - val_loss: 0.6836 - val_accuracy: 0.5544\n",
      "Epoch 2/20\n",
      "1250/1250 [==============================] - 169s 135ms/step - loss: 0.6706 - accuracy: 0.5922 - val_loss: 0.6453 - val_accuracy: 0.6320\n",
      "Epoch 3/20\n",
      "1250/1250 [==============================] - 172s 137ms/step - loss: 0.6326 - accuracy: 0.6464 - val_loss: 0.5927 - val_accuracy: 0.6874\n",
      "Epoch 4/20\n",
      "1250/1250 [==============================] - 163s 130ms/step - loss: 0.6082 - accuracy: 0.6693 - val_loss: 0.6044 - val_accuracy: 0.6790\n",
      "Epoch 5/20\n",
      "1250/1250 [==============================] - 167s 133ms/step - loss: 0.5832 - accuracy: 0.6945 - val_loss: 0.5705 - val_accuracy: 0.7068\n",
      "Epoch 6/20\n",
      "1250/1250 [==============================] - 160s 128ms/step - loss: 0.5765 - accuracy: 0.7024 - val_loss: 0.6526 - val_accuracy: 0.6332\n",
      "Epoch 7/20\n",
      "1250/1250 [==============================] - 306s 245ms/step - loss: 0.5659 - accuracy: 0.7123 - val_loss: 0.7690 - val_accuracy: 0.5512\n",
      "Epoch 8/20\n",
      "1250/1250 [==============================] - 352s 281ms/step - loss: 0.5199 - accuracy: 0.7475 - val_loss: 0.4647 - val_accuracy: 0.7840\n",
      "Epoch 9/20\n",
      "1250/1250 [==============================] - 391s 313ms/step - loss: 0.4835 - accuracy: 0.7724 - val_loss: 0.6610 - val_accuracy: 0.6584\n",
      "Epoch 10/20\n",
      "1250/1250 [==============================] - 321s 256ms/step - loss: 0.4660 - accuracy: 0.7807 - val_loss: 0.4369 - val_accuracy: 0.7978\n",
      "Epoch 11/20\n",
      "1250/1250 [==============================] - 163s 131ms/step - loss: 0.4417 - accuracy: 0.7969 - val_loss: 0.4982 - val_accuracy: 0.7554\n",
      "Epoch 12/20\n",
      "1250/1250 [==============================] - 163s 131ms/step - loss: 0.4480 - accuracy: 0.7940 - val_loss: 0.4330 - val_accuracy: 0.7960\n",
      "Epoch 13/20\n",
      "1250/1250 [==============================] - 180s 144ms/step - loss: 0.4202 - accuracy: 0.8126 - val_loss: 0.3800 - val_accuracy: 0.8322\n",
      "Epoch 14/20\n",
      "1250/1250 [==============================] - 200s 160ms/step - loss: 0.4041 - accuracy: 0.8209 - val_loss: 0.3908 - val_accuracy: 0.8208\n",
      "Epoch 15/20\n",
      " 240/1250 [====>.........................] - ETA: 3:16 - loss: 0.4488 - accuracy: 0.7914"
     ]
    }
   ],
   "source": [
    "history = model.fit(train_generator,epochs=20,validation_data = test_generator)"
   ]
  },
  {
   "cell_type": "code",
   "execution_count": null,
   "id": "8f016dcc",
   "metadata": {},
   "outputs": [
    {
     "data": {
      "text/plain": [
       "[<matplotlib.lines.Line2D at 0x28405548760>]"
      ]
     },
     "execution_count": 13,
     "metadata": {},
     "output_type": "execute_result"
    },
    {
     "data": {
      "image/png": "[encoded data removed]",
      "text/plain": [
       "<Figure size 640x480 with 1 Axes>"
      ]
     },
     "metadata": {},
     "output_type": "display_data"
    }
   ],
   "source": [
    "plt.plot(history.history['loss'],history.history['val_loss'])"
   ]
  },
  {
   "cell_type": "code",
   "execution_count": null,
   "id": "6a2e0262",
   "metadata": {},
   "outputs": [
    {
     "data": {
      "text/plain": [
       "[<matplotlib.lines.Line2D at 0x284057194b0>]"
      ]
     },
     "execution_count": 14,
     "metadata": {},
     "output_type": "execute_result"
    },
    {
     "data": {
      "image/png": "[encoded data removed]",
      "text/plain": [
       "<Figure size 640x480 with 1 Axes>"
      ]
     },
     "metadata": {},
     "output_type": "display_data"
    }
   ],
   "source": [
    "plt.plot(history.history['accuracy'],history.history['val_accuracy'])"
   ]
  },
  {
   "cell_type": "code",
   "execution_count": null,
   "id": "985340bb",
   "metadata": {},
   "outputs": [],
   "source": [
    "## Saving the model\n",
    "model.save('classification_model.h5')"
   ]
  },
  {
   "cell_type": "code",
   "execution_count": null,
   "id": "518ae8dd",
   "metadata": {},
   "outputs": [
    {
     "name": "stdout",
     "output_type": "stream",
     "text": [
      "Model: \"sequential\"\n",
      "_________________________________________________________________\n",
      " Layer (type)                Output Shape              Param #   \n",
      "=================================================================\n",
      " conv2d (Conv2D)             (None, 140, 140, 32)      11648     \n",
      "                                                                 \n",
      " max_pooling2d (MaxPooling2D  (None, 46, 46, 32)       0         \n",
      " )                                                               \n",
      "                                                                 \n",
      " conv2d_1 (Conv2D)           (None, 42, 42, 32)        25632     \n",
      "                                                                 \n",
      " max_pooling2d_1 (MaxPooling  (None, 14, 14, 32)       0         \n",
      " 2D)                                                             \n",
      "                                                                 \n",
      " conv2d_2 (Conv2D)           (None, 12, 12, 64)        18496     \n",
      "                                                                 \n",
      " max_pooling2d_2 (MaxPooling  (None, 5, 5, 64)         0         \n",
      " 2D)                                                             \n",
      "                                                                 \n",
      " flatten (Flatten)           (None, 1600)              0         \n",
      "                                                                 \n",
      " dense (Dense)               (None, 64)                102464    \n",
      "                                                                 \n",
      " batch_normalization (BatchN  (None, 64)               256       \n",
      " ormalization)                                                   \n",
      "                                                                 \n",
      " dropout (Dropout)           (None, 64)                0         \n",
      "                                                                 \n",
      " dense_1 (Dense)             (None, 1)                 65        \n",
      "                                                                 \n",
      "=================================================================\n",
      "Total params: 158,561\n",
      "Trainable params: 158,433\n",
      "Non-trainable params: 128\n",
      "_________________________________________________________________\n"
     ]
    }
   ],
   "source": [
    "model_test = keras.models.load_model('classification_model.h5')\n",
    "model_test.summary()"
   ]
  }
 ],
 "metadata": {
  "kernelspec": {
   "display_name": "Python 3",
   "language": "python",
   "name": "python3"
  },
  "language_info": {
   "codemirror_mode": {
    "name": "ipython",
    "version": 3
   },
   "file_extension": ".py",
   "mimetype": "text/x-python",
   "name": "python",
   "nbconvert_exporter": "python",
   "pygments_lexer": "ipython3",
   "version": "3.10.11"
  }
 },
 "nbformat": 4,
 "nbformat_minor": 5
}
